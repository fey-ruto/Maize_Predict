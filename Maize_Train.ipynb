{
  "nbformat": 4,
  "nbformat_minor": 0,
  "metadata": {
    "colab": {
      "provenance": []
    },
    "kernelspec": {
      "name": "python3",
      "display_name": "Python 3"
    },
    "language_info": {
      "name": "python"
    }
  },
  "cells": [
    {
      "cell_type": "code",
      "execution_count": 1,
      "metadata": {
        "colab": {
          "base_uri": "https://localhost:8080/"
        },
        "id": "wDvgXKrJTLNs",
        "outputId": "b27d096b-edc7-4fe6-a233-dd6136dabf01"
      },
      "outputs": [
        {
          "output_type": "stream",
          "name": "stdout",
          "text": [
            "       Date     Month   Regions   Commodity   Unit   Priceflag   Pricetype  \\\n",
            "0     #date    #month  #regions  #commodity  #unit  #priceflag  #pricetype   \n",
            "1  2006       January     Coast       Maize     KG      actual      Retail   \n",
            "2  2006      February     Coast       Maize     KG      actual      Retail   \n",
            "3  2006         March     Coast       Maize     KG      actual      Retail   \n",
            "4  2006         April     Coast       Maize     KG      actual      Retail   \n",
            "\n",
            "    Currency   Price   Usdprice  ... Unnamed: 19 Unnamed: 20 Unnamed: 21  \\\n",
            "0  #currency  #price  #usdprice  ...         NaN         NaN         NaN   \n",
            "1        KES   16.13     0.2235  ...         NaN         NaN         NaN   \n",
            "2        KES   15.93     0.2208  ...         NaN         NaN         NaN   \n",
            "3        KES   16.03     0.2221  ...         NaN         NaN         NaN   \n",
            "4        KES   16.63     0.2305  ...         NaN         NaN         NaN   \n",
            "\n",
            "   Unnamed: 22  Unnamed: 23  Unnamed: 24  Unnamed: 25  Unnamed: 26  \\\n",
            "0          NaN          NaN          NaN          NaN          NaN   \n",
            "1          NaN          NaN          NaN          NaN          NaN   \n",
            "2          NaN          NaN          NaN          NaN          NaN   \n",
            "3          NaN          NaN          NaN          NaN          NaN   \n",
            "4          NaN          NaN          NaN          NaN          NaN   \n",
            "\n",
            "   Unnamed: 27  Unnamed: 28  \n",
            "0          NaN          NaN  \n",
            "1          NaN          NaN  \n",
            "2          NaN          NaN  \n",
            "3          NaN          NaN  \n",
            "4          NaN          NaN  \n",
            "\n",
            "[5 rows x 29 columns]\n",
            "  Region      County\n",
            "0  Coast     Mombasa\n",
            "1  Coast       Kwale\n",
            "2  Coast      Kilifi\n",
            "3  Coast  Tana River\n",
            "4  Coast        Lamu\n",
            "       Date     Month Regions Commodity Unit Priceflag Pricetype Currency  \\\n",
            "1  2006       January   Coast     Maize   KG    actual    Retail      KES   \n",
            "2  2006      February   Coast     Maize   KG    actual    Retail      KES   \n",
            "3  2006         March   Coast     Maize   KG    actual    Retail      KES   \n",
            "4  2006         April   Coast     Maize   KG    actual    Retail      KES   \n",
            "5  2006           May   Coast     Maize   KG    actual    Retail      KES   \n",
            "\n",
            "   Price Usdprice Amount Produced Annual Rainfall Annual Temperature  \n",
            "1  16.13   0.2235          9741.6              23                 27  \n",
            "2  15.93   0.2208          9741.6              13                 27  \n",
            "3  16.03   0.2221          9741.6              42                 27  \n",
            "4  16.63   0.2305           16236             108                 26  \n",
            "5  16.43   0.2278           16236             142                 26  \n"
          ]
        }
      ],
      "source": [
        "import pandas as pd\n",
        "\n",
        "# Load the datasets\n",
        "prices_weather_production_df = pd.read_csv('/content/Food_Prices_Kenya.csv')\n",
        "counties_regions_df = pd.read_csv('/content/Kenyan_Counties_with_Regions.csv')\n",
        "\n",
        "# Display the first few rows to understand the structure\n",
        "print(prices_weather_production_df.head())\n",
        "print(counties_regions_df.head())\n",
        "\n",
        "# Clean the Food_Prices_Kenya dataset\n",
        "prices_weather_production_df = prices_weather_production_df.loc[:, ~prices_weather_production_df.columns.str.contains('^Unnamed')]\n",
        "prices_weather_production_df = prices_weather_production_df.drop(0)\n",
        "prices_weather_production_df = prices_weather_production_df.dropna()\n",
        "\n",
        "# Display the cleaned data\n",
        "print(prices_weather_production_df.head())\n"
      ]
    },
    {
      "cell_type": "code",
      "source": [
        "# Merge the datasets\n",
        "merged_df = pd.merge(prices_weather_production_df, counties_regions_df, left_on='Regions', right_on='Region', how='left')\n",
        "merged_df = merged_df.drop(columns=['Region'])\n",
        "\n",
        "# Display the merged data\n",
        "print(merged_df.head())"
      ],
      "metadata": {
        "colab": {
          "base_uri": "https://localhost:8080/"
        },
        "id": "Xdx0Mj0cTrDL",
        "outputId": "2fcb11fa-d38a-4ecb-e421-d7cdfef7c978"
      },
      "execution_count": 2,
      "outputs": [
        {
          "output_type": "stream",
          "name": "stdout",
          "text": [
            "       Date    Month Regions Commodity Unit Priceflag Pricetype Currency  \\\n",
            "0  2006      January   Coast     Maize   KG    actual    Retail      KES   \n",
            "1  2006      January   Coast     Maize   KG    actual    Retail      KES   \n",
            "2  2006      January   Coast     Maize   KG    actual    Retail      KES   \n",
            "3  2006      January   Coast     Maize   KG    actual    Retail      KES   \n",
            "4  2006      January   Coast     Maize   KG    actual    Retail      KES   \n",
            "\n",
            "   Price Usdprice Amount Produced Annual Rainfall Annual Temperature  \\\n",
            "0  16.13   0.2235          9741.6              23                 27   \n",
            "1  16.13   0.2235          9741.6              23                 27   \n",
            "2  16.13   0.2235          9741.6              23                 27   \n",
            "3  16.13   0.2235          9741.6              23                 27   \n",
            "4  16.13   0.2235          9741.6              23                 27   \n",
            "\n",
            "       County  \n",
            "0     Mombasa  \n",
            "1       Kwale  \n",
            "2      Kilifi  \n",
            "3  Tana River  \n",
            "4        Lamu  \n"
          ]
        }
      ]
    },
    {
      "source": [
        "from sklearn.preprocessing import StandardScaler\n",
        "\n",
        "# Convert date-related columns to datetime format\n",
        "merged_df['Date'] = pd.to_datetime(merged_df['Date'], errors='coerce')\n",
        "merged_df['Year'] = merged_df['Date'].dt.year\n",
        "merged_df['Month'] = merged_df['Date'].dt.month\n",
        "\n",
        "# Replace commas in numeric columns and convert to numeric type\n",
        "for col in ['Price', 'Usdprice', 'Amount Produced', 'Annual Rainfall', 'Annual Temperature']:\n",
        "    merged_df[col] = merged_df[col].str.replace(',', '', regex=True).astype(float)\n",
        "\n",
        "# Normalize or scale numeric features\n",
        "scaler = StandardScaler()\n",
        "merged_df[['Price', 'Usdprice', 'Amount Produced', 'Annual Rainfall', 'Annual Temperature']] = scaler.fit_transform(\n",
        "    merged_df[['Price', 'Usdprice', 'Amount Produced', 'Annual Rainfall', 'Annual Temperature']])\n",
        "\n",
        "# Display the normalized data\n",
        "print(merged_df.head())"
      ],
      "cell_type": "code",
      "metadata": {
        "colab": {
          "base_uri": "https://localhost:8080/"
        },
        "id": "9el6-VLjUuxl",
        "outputId": "5da6e8e7-7b04-4522-b031-fcf5b65c041b"
      },
      "execution_count": 4,
      "outputs": [
        {
          "output_type": "stream",
          "name": "stdout",
          "text": [
            "        Date  Month Regions Commodity Unit Priceflag Pricetype Currency  \\\n",
            "0 2006-01-01      1   Coast     Maize   KG    actual    Retail      KES   \n",
            "1 2006-01-01      1   Coast     Maize   KG    actual    Retail      KES   \n",
            "2 2006-01-01      1   Coast     Maize   KG    actual    Retail      KES   \n",
            "3 2006-01-01      1   Coast     Maize   KG    actual    Retail      KES   \n",
            "4 2006-01-01      1   Coast     Maize   KG    actual    Retail      KES   \n",
            "\n",
            "      Price  Usdprice  Amount Produced  Annual Rainfall  Annual Temperature  \\\n",
            "0 -1.092889 -1.035701        -0.836564        -1.579464            0.250846   \n",
            "1 -1.092889 -1.035701        -0.836564        -1.579464            0.250846   \n",
            "2 -1.092889 -1.035701        -0.836564        -1.579464            0.250846   \n",
            "3 -1.092889 -1.035701        -0.836564        -1.579464            0.250846   \n",
            "4 -1.092889 -1.035701        -0.836564        -1.579464            0.250846   \n",
            "\n",
            "       County  Year  \n",
            "0     Mombasa  2006  \n",
            "1       Kwale  2006  \n",
            "2      Kilifi  2006  \n",
            "3  Tana River  2006  \n",
            "4        Lamu  2006  \n"
          ]
        }
      ]
    },
    {
      "cell_type": "code",
      "source": [
        "from sklearn.model_selection import train_test_split\n",
        "\n",
        "# Define the feature set and target variable for price prediction\n",
        "X_price = merged_df[['Year', 'Month', 'Amount Produced', 'Annual Rainfall', 'Annual Temperature']]\n",
        "y_price = merged_df['Price']\n",
        "\n",
        "# Define the feature set and target variables for weather prediction\n",
        "X_weather = merged_df[['Year', 'Month']]\n",
        "y_rainfall = merged_df['Annual Rainfall']\n",
        "y_temperature = merged_df['Annual Temperature']\n",
        "\n",
        "# Split the data into training and testing sets\n",
        "X_train_price, X_test_price, y_train_price, y_test_price = train_test_split(X_price, y_price, test_size=0.2, random_state=42)\n",
        "X_train_weather, X_test_weather, y_train_rainfall, y_test_rainfall, y_train_temperature, y_test_temperature = train_test_split(\n",
        "    X_weather, y_rainfall, y_temperature, test_size=0.2, random_state=42)\n",
        "\n",
        "# Display the shapes of the training and testing sets\n",
        "print(X_train_price.shape, X_test_price.shape, y_train_price.shape, y_test_price.shape)\n",
        "print(X_train_weather.shape, X_test_weather.shape, y_train_rainfall.shape, y_test_rainfall.shape, y_train_temperature.shape, y_test_temperature.shape)\n"
      ],
      "metadata": {
        "colab": {
          "base_uri": "https://localhost:8080/"
        },
        "id": "RPzy_SAXU5P1",
        "outputId": "374240ca-a86f-4414-dc39-2be757cd3ccc"
      },
      "execution_count": 5,
      "outputs": [
        {
          "output_type": "stream",
          "name": "stdout",
          "text": [
            "(7891, 5) (1973, 5) (7891,) (1973,)\n",
            "(7891, 2) (1973, 2) (7891,) (1973,) (7891,) (1973,)\n"
          ]
        }
      ]
    },
    {
      "cell_type": "code",
      "source": [
        "import tensorflow as tf\n",
        "from tensorflow.keras.models import Sequential\n",
        "from tensorflow.keras.layers import Dense\n",
        "\n",
        "# ANN model for maize price prediction\n",
        "def build_price_model():\n",
        "    model = Sequential()\n",
        "    model.add(Dense(64, input_dim=X_train_price.shape[1], activation='relu'))\n",
        "    model.add(Dense(32, activation='relu'))\n",
        "    model.add(Dense(1))\n",
        "    model.compile(optimizer='adam', loss='mean_squared_error', metrics=['mean_absolute_error'])\n",
        "    return model\n",
        "\n",
        "# ANN model for weather prediction\n",
        "def build_weather_model():\n",
        "    model = Sequential()\n",
        "    model.add(Dense(64, input_dim=X_train_weather.shape[1], activation='relu'))\n",
        "    model.add(Dense(32, activation='relu'))\n",
        "    model.add(Dense(2))  # Predicting both rainfall and temperature\n",
        "    model.compile(optimizer='adam', loss='mean_squared_error', metrics=['mean_absolute_error'])\n",
        "    return model\n",
        "\n",
        "# Build models\n",
        "price_model = build_price_model()\n",
        "weather_model = build_weather_model()\n",
        "\n",
        "# Display model summaries\n",
        "price_model.summary()\n",
        "weather_model.summary()\n"
      ],
      "metadata": {
        "colab": {
          "base_uri": "https://localhost:8080/",
          "height": 514
        },
        "id": "N8KUYGUPVBAg",
        "outputId": "2432686c-7243-4d48-f31c-929eb5b7a80e"
      },
      "execution_count": 6,
      "outputs": [
        {
          "output_type": "stream",
          "name": "stderr",
          "text": [
            "/usr/local/lib/python3.10/dist-packages/keras/src/layers/core/dense.py:87: UserWarning: Do not pass an `input_shape`/`input_dim` argument to a layer. When using Sequential models, prefer using an `Input(shape)` object as the first layer in the model instead.\n",
            "  super().__init__(activity_regularizer=activity_regularizer, **kwargs)\n"
          ]
        },
        {
          "output_type": "display_data",
          "data": {
            "text/plain": [
              "\u001b[1mModel: \"sequential\"\u001b[0m\n"
            ],
            "text/html": [
              "<pre style=\"white-space:pre;overflow-x:auto;line-height:normal;font-family:Menlo,'DejaVu Sans Mono',consolas,'Courier New',monospace\"><span style=\"font-weight: bold\">Model: \"sequential\"</span>\n",
              "</pre>\n"
            ]
          },
          "metadata": {}
        },
        {
          "output_type": "display_data",
          "data": {
            "text/plain": [
              "┏━━━━━━━━━━━━━━━━━━━━━━━━━━━━━━━━━━━━━━┳━━━━━━━━━━━━━━━━━━━━━━━━━━━━━┳━━━━━━━━━━━━━━━━━┓\n",
              "┃\u001b[1m \u001b[0m\u001b[1mLayer (type)                        \u001b[0m\u001b[1m \u001b[0m┃\u001b[1m \u001b[0m\u001b[1mOutput Shape               \u001b[0m\u001b[1m \u001b[0m┃\u001b[1m \u001b[0m\u001b[1m        Param #\u001b[0m\u001b[1m \u001b[0m┃\n",
              "┡━━━━━━━━━━━━━━━━━━━━━━━━━━━━━━━━━━━━━━╇━━━━━━━━━━━━━━━━━━━━━━━━━━━━━╇━━━━━━━━━━━━━━━━━┩\n",
              "│ dense (\u001b[38;5;33mDense\u001b[0m)                        │ (\u001b[38;5;45mNone\u001b[0m, \u001b[38;5;34m64\u001b[0m)                  │             \u001b[38;5;34m384\u001b[0m │\n",
              "├──────────────────────────────────────┼─────────────────────────────┼─────────────────┤\n",
              "│ dense_1 (\u001b[38;5;33mDense\u001b[0m)                      │ (\u001b[38;5;45mNone\u001b[0m, \u001b[38;5;34m32\u001b[0m)                  │           \u001b[38;5;34m2,080\u001b[0m │\n",
              "├──────────────────────────────────────┼─────────────────────────────┼─────────────────┤\n",
              "│ dense_2 (\u001b[38;5;33mDense\u001b[0m)                      │ (\u001b[38;5;45mNone\u001b[0m, \u001b[38;5;34m1\u001b[0m)                   │              \u001b[38;5;34m33\u001b[0m │\n",
              "└──────────────────────────────────────┴─────────────────────────────┴─────────────────┘\n"
            ],
            "text/html": [
              "<pre style=\"white-space:pre;overflow-x:auto;line-height:normal;font-family:Menlo,'DejaVu Sans Mono',consolas,'Courier New',monospace\">┏━━━━━━━━━━━━━━━━━━━━━━━━━━━━━━━━━━━━━━┳━━━━━━━━━━━━━━━━━━━━━━━━━━━━━┳━━━━━━━━━━━━━━━━━┓\n",
              "┃<span style=\"font-weight: bold\"> Layer (type)                         </span>┃<span style=\"font-weight: bold\"> Output Shape                </span>┃<span style=\"font-weight: bold\">         Param # </span>┃\n",
              "┡━━━━━━━━━━━━━━━━━━━━━━━━━━━━━━━━━━━━━━╇━━━━━━━━━━━━━━━━━━━━━━━━━━━━━╇━━━━━━━━━━━━━━━━━┩\n",
              "│ dense (<span style=\"color: #0087ff; text-decoration-color: #0087ff\">Dense</span>)                        │ (<span style=\"color: #00d7ff; text-decoration-color: #00d7ff\">None</span>, <span style=\"color: #00af00; text-decoration-color: #00af00\">64</span>)                  │             <span style=\"color: #00af00; text-decoration-color: #00af00\">384</span> │\n",
              "├──────────────────────────────────────┼─────────────────────────────┼─────────────────┤\n",
              "│ dense_1 (<span style=\"color: #0087ff; text-decoration-color: #0087ff\">Dense</span>)                      │ (<span style=\"color: #00d7ff; text-decoration-color: #00d7ff\">None</span>, <span style=\"color: #00af00; text-decoration-color: #00af00\">32</span>)                  │           <span style=\"color: #00af00; text-decoration-color: #00af00\">2,080</span> │\n",
              "├──────────────────────────────────────┼─────────────────────────────┼─────────────────┤\n",
              "│ dense_2 (<span style=\"color: #0087ff; text-decoration-color: #0087ff\">Dense</span>)                      │ (<span style=\"color: #00d7ff; text-decoration-color: #00d7ff\">None</span>, <span style=\"color: #00af00; text-decoration-color: #00af00\">1</span>)                   │              <span style=\"color: #00af00; text-decoration-color: #00af00\">33</span> │\n",
              "└──────────────────────────────────────┴─────────────────────────────┴─────────────────┘\n",
              "</pre>\n"
            ]
          },
          "metadata": {}
        },
        {
          "output_type": "display_data",
          "data": {
            "text/plain": [
              "\u001b[1m Total params: \u001b[0m\u001b[38;5;34m2,497\u001b[0m (9.75 KB)\n"
            ],
            "text/html": [
              "<pre style=\"white-space:pre;overflow-x:auto;line-height:normal;font-family:Menlo,'DejaVu Sans Mono',consolas,'Courier New',monospace\"><span style=\"font-weight: bold\"> Total params: </span><span style=\"color: #00af00; text-decoration-color: #00af00\">2,497</span> (9.75 KB)\n",
              "</pre>\n"
            ]
          },
          "metadata": {}
        },
        {
          "output_type": "display_data",
          "data": {
            "text/plain": [
              "\u001b[1m Trainable params: \u001b[0m\u001b[38;5;34m2,497\u001b[0m (9.75 KB)\n"
            ],
            "text/html": [
              "<pre style=\"white-space:pre;overflow-x:auto;line-height:normal;font-family:Menlo,'DejaVu Sans Mono',consolas,'Courier New',monospace\"><span style=\"font-weight: bold\"> Trainable params: </span><span style=\"color: #00af00; text-decoration-color: #00af00\">2,497</span> (9.75 KB)\n",
              "</pre>\n"
            ]
          },
          "metadata": {}
        },
        {
          "output_type": "display_data",
          "data": {
            "text/plain": [
              "\u001b[1m Non-trainable params: \u001b[0m\u001b[38;5;34m0\u001b[0m (0.00 B)\n"
            ],
            "text/html": [
              "<pre style=\"white-space:pre;overflow-x:auto;line-height:normal;font-family:Menlo,'DejaVu Sans Mono',consolas,'Courier New',monospace\"><span style=\"font-weight: bold\"> Non-trainable params: </span><span style=\"color: #00af00; text-decoration-color: #00af00\">0</span> (0.00 B)\n",
              "</pre>\n"
            ]
          },
          "metadata": {}
        },
        {
          "output_type": "display_data",
          "data": {
            "text/plain": [
              "\u001b[1mModel: \"sequential_1\"\u001b[0m\n"
            ],
            "text/html": [
              "<pre style=\"white-space:pre;overflow-x:auto;line-height:normal;font-family:Menlo,'DejaVu Sans Mono',consolas,'Courier New',monospace\"><span style=\"font-weight: bold\">Model: \"sequential_1\"</span>\n",
              "</pre>\n"
            ]
          },
          "metadata": {}
        },
        {
          "output_type": "display_data",
          "data": {
            "text/plain": [
              "┏━━━━━━━━━━━━━━━━━━━━━━━━━━━━━━━━━━━━━━┳━━━━━━━━━━━━━━━━━━━━━━━━━━━━━┳━━━━━━━━━━━━━━━━━┓\n",
              "┃\u001b[1m \u001b[0m\u001b[1mLayer (type)                        \u001b[0m\u001b[1m \u001b[0m┃\u001b[1m \u001b[0m\u001b[1mOutput Shape               \u001b[0m\u001b[1m \u001b[0m┃\u001b[1m \u001b[0m\u001b[1m        Param #\u001b[0m\u001b[1m \u001b[0m┃\n",
              "┡━━━━━━━━━━━━━━━━━━━━━━━━━━━━━━━━━━━━━━╇━━━━━━━━━━━━━━━━━━━━━━━━━━━━━╇━━━━━━━━━━━━━━━━━┩\n",
              "│ dense_3 (\u001b[38;5;33mDense\u001b[0m)                      │ (\u001b[38;5;45mNone\u001b[0m, \u001b[38;5;34m64\u001b[0m)                  │             \u001b[38;5;34m192\u001b[0m │\n",
              "├──────────────────────────────────────┼─────────────────────────────┼─────────────────┤\n",
              "│ dense_4 (\u001b[38;5;33mDense\u001b[0m)                      │ (\u001b[38;5;45mNone\u001b[0m, \u001b[38;5;34m32\u001b[0m)                  │           \u001b[38;5;34m2,080\u001b[0m │\n",
              "├──────────────────────────────────────┼─────────────────────────────┼─────────────────┤\n",
              "│ dense_5 (\u001b[38;5;33mDense\u001b[0m)                      │ (\u001b[38;5;45mNone\u001b[0m, \u001b[38;5;34m2\u001b[0m)                   │              \u001b[38;5;34m66\u001b[0m │\n",
              "└──────────────────────────────────────┴─────────────────────────────┴─────────────────┘\n"
            ],
            "text/html": [
              "<pre style=\"white-space:pre;overflow-x:auto;line-height:normal;font-family:Menlo,'DejaVu Sans Mono',consolas,'Courier New',monospace\">┏━━━━━━━━━━━━━━━━━━━━━━━━━━━━━━━━━━━━━━┳━━━━━━━━━━━━━━━━━━━━━━━━━━━━━┳━━━━━━━━━━━━━━━━━┓\n",
              "┃<span style=\"font-weight: bold\"> Layer (type)                         </span>┃<span style=\"font-weight: bold\"> Output Shape                </span>┃<span style=\"font-weight: bold\">         Param # </span>┃\n",
              "┡━━━━━━━━━━━━━━━━━━━━━━━━━━━━━━━━━━━━━━╇━━━━━━━━━━━━━━━━━━━━━━━━━━━━━╇━━━━━━━━━━━━━━━━━┩\n",
              "│ dense_3 (<span style=\"color: #0087ff; text-decoration-color: #0087ff\">Dense</span>)                      │ (<span style=\"color: #00d7ff; text-decoration-color: #00d7ff\">None</span>, <span style=\"color: #00af00; text-decoration-color: #00af00\">64</span>)                  │             <span style=\"color: #00af00; text-decoration-color: #00af00\">192</span> │\n",
              "├──────────────────────────────────────┼─────────────────────────────┼─────────────────┤\n",
              "│ dense_4 (<span style=\"color: #0087ff; text-decoration-color: #0087ff\">Dense</span>)                      │ (<span style=\"color: #00d7ff; text-decoration-color: #00d7ff\">None</span>, <span style=\"color: #00af00; text-decoration-color: #00af00\">32</span>)                  │           <span style=\"color: #00af00; text-decoration-color: #00af00\">2,080</span> │\n",
              "├──────────────────────────────────────┼─────────────────────────────┼─────────────────┤\n",
              "│ dense_5 (<span style=\"color: #0087ff; text-decoration-color: #0087ff\">Dense</span>)                      │ (<span style=\"color: #00d7ff; text-decoration-color: #00d7ff\">None</span>, <span style=\"color: #00af00; text-decoration-color: #00af00\">2</span>)                   │              <span style=\"color: #00af00; text-decoration-color: #00af00\">66</span> │\n",
              "└──────────────────────────────────────┴─────────────────────────────┴─────────────────┘\n",
              "</pre>\n"
            ]
          },
          "metadata": {}
        },
        {
          "output_type": "display_data",
          "data": {
            "text/plain": [
              "\u001b[1m Total params: \u001b[0m\u001b[38;5;34m2,338\u001b[0m (9.13 KB)\n"
            ],
            "text/html": [
              "<pre style=\"white-space:pre;overflow-x:auto;line-height:normal;font-family:Menlo,'DejaVu Sans Mono',consolas,'Courier New',monospace\"><span style=\"font-weight: bold\"> Total params: </span><span style=\"color: #00af00; text-decoration-color: #00af00\">2,338</span> (9.13 KB)\n",
              "</pre>\n"
            ]
          },
          "metadata": {}
        },
        {
          "output_type": "display_data",
          "data": {
            "text/plain": [
              "\u001b[1m Trainable params: \u001b[0m\u001b[38;5;34m2,338\u001b[0m (9.13 KB)\n"
            ],
            "text/html": [
              "<pre style=\"white-space:pre;overflow-x:auto;line-height:normal;font-family:Menlo,'DejaVu Sans Mono',consolas,'Courier New',monospace\"><span style=\"font-weight: bold\"> Trainable params: </span><span style=\"color: #00af00; text-decoration-color: #00af00\">2,338</span> (9.13 KB)\n",
              "</pre>\n"
            ]
          },
          "metadata": {}
        },
        {
          "output_type": "display_data",
          "data": {
            "text/plain": [
              "\u001b[1m Non-trainable params: \u001b[0m\u001b[38;5;34m0\u001b[0m (0.00 B)\n"
            ],
            "text/html": [
              "<pre style=\"white-space:pre;overflow-x:auto;line-height:normal;font-family:Menlo,'DejaVu Sans Mono',consolas,'Courier New',monospace\"><span style=\"font-weight: bold\"> Non-trainable params: </span><span style=\"color: #00af00; text-decoration-color: #00af00\">0</span> (0.00 B)\n",
              "</pre>\n"
            ]
          },
          "metadata": {}
        }
      ]
    },
    {
      "cell_type": "code",
      "source": [
        "# Train the price model\n",
        "price_history = price_model.fit(X_train_price, y_train_price, epochs=50, batch_size=10, validation_split=0.2)\n",
        "\n",
        "# Train the weather model\n",
        "weather_history = weather_model.fit(X_train_weather, [y_train_rainfall, y_train_temperature], epochs=50, batch_size=10, validation_split=0.2)\n"
      ],
      "metadata": {
        "colab": {
          "base_uri": "https://localhost:8080/"
        },
        "collapsed": true,
        "id": "Geiz2d_0VJuC",
        "outputId": "53c95971-f46a-4a5a-c78c-15511ed528e7"
      },
      "execution_count": 7,
      "outputs": [
        {
          "output_type": "stream",
          "name": "stdout",
          "text": [
            "Epoch 1/50\n",
            "\u001b[1m632/632\u001b[0m \u001b[32m━━━━━━━━━━━━━━━━━━━━\u001b[0m\u001b[37m\u001b[0m \u001b[1m3s\u001b[0m 3ms/step - loss: 4480.0273 - mean_absolute_error: 25.2382 - val_loss: 1.1749 - val_mean_absolute_error: 0.9348\n",
            "Epoch 2/50\n",
            "\u001b[1m632/632\u001b[0m \u001b[32m━━━━━━━━━━━━━━━━━━━━\u001b[0m\u001b[37m\u001b[0m \u001b[1m1s\u001b[0m 2ms/step - loss: 1.0922 - mean_absolute_error: 0.8124 - val_loss: 0.8914 - val_mean_absolute_error: 0.7599\n",
            "Epoch 3/50\n",
            "\u001b[1m632/632\u001b[0m \u001b[32m━━━━━━━━━━━━━━━━━━━━\u001b[0m\u001b[37m\u001b[0m \u001b[1m1s\u001b[0m 2ms/step - loss: 1.0445 - mean_absolute_error: 0.7908 - val_loss: 0.9905 - val_mean_absolute_error: 0.7097\n",
            "Epoch 4/50\n",
            "\u001b[1m632/632\u001b[0m \u001b[32m━━━━━━━━━━━━━━━━━━━━\u001b[0m\u001b[37m\u001b[0m \u001b[1m3s\u001b[0m 2ms/step - loss: 1.2783 - mean_absolute_error: 0.8821 - val_loss: 1.4082 - val_mean_absolute_error: 0.8726\n",
            "Epoch 5/50\n",
            "\u001b[1m632/632\u001b[0m \u001b[32m━━━━━━━━━━━━━━━━━━━━\u001b[0m\u001b[37m\u001b[0m \u001b[1m3s\u001b[0m 3ms/step - loss: 1.3601 - mean_absolute_error: 0.9107 - val_loss: 1.2381 - val_mean_absolute_error: 0.8058\n",
            "Epoch 6/50\n",
            "\u001b[1m632/632\u001b[0m \u001b[32m━━━━━━━━━━━━━━━━━━━━\u001b[0m\u001b[37m\u001b[0m \u001b[1m2s\u001b[0m 3ms/step - loss: 1.6975 - mean_absolute_error: 1.0240 - val_loss: 13.7571 - val_mean_absolute_error: 3.5939\n",
            "Epoch 7/50\n",
            "\u001b[1m632/632\u001b[0m \u001b[32m━━━━━━━━━━━━━━━━━━━━\u001b[0m\u001b[37m\u001b[0m \u001b[1m2s\u001b[0m 2ms/step - loss: 2.1336 - mean_absolute_error: 1.1600 - val_loss: 9.0699 - val_mean_absolute_error: 2.8656\n",
            "Epoch 8/50\n",
            "\u001b[1m632/632\u001b[0m \u001b[32m━━━━━━━━━━━━━━━━━━━━\u001b[0m\u001b[37m\u001b[0m \u001b[1m1s\u001b[0m 2ms/step - loss: 3.3986 - mean_absolute_error: 1.5117 - val_loss: 5.0710 - val_mean_absolute_error: 2.0953\n",
            "Epoch 9/50\n",
            "\u001b[1m632/632\u001b[0m \u001b[32m━━━━━━━━━━━━━━━━━━━━\u001b[0m\u001b[37m\u001b[0m \u001b[1m2s\u001b[0m 2ms/step - loss: 2.9559 - mean_absolute_error: 1.3724 - val_loss: 2.9500 - val_mean_absolute_error: 1.5593\n",
            "Epoch 10/50\n",
            "\u001b[1m632/632\u001b[0m \u001b[32m━━━━━━━━━━━━━━━━━━━━\u001b[0m\u001b[37m\u001b[0m \u001b[1m1s\u001b[0m 2ms/step - loss: 4.2834 - mean_absolute_error: 1.6817 - val_loss: 1.1164 - val_mean_absolute_error: 0.7562\n",
            "Epoch 11/50\n",
            "\u001b[1m632/632\u001b[0m \u001b[32m━━━━━━━━━━━━━━━━━━━━\u001b[0m\u001b[37m\u001b[0m \u001b[1m3s\u001b[0m 2ms/step - loss: 4.1512 - mean_absolute_error: 1.6504 - val_loss: 3.7140 - val_mean_absolute_error: 1.6913\n",
            "Epoch 12/50\n",
            "\u001b[1m632/632\u001b[0m \u001b[32m━━━━━━━━━━━━━━━━━━━━\u001b[0m\u001b[37m\u001b[0m \u001b[1m3s\u001b[0m 3ms/step - loss: 4.3042 - mean_absolute_error: 1.6603 - val_loss: 11.0584 - val_mean_absolute_error: 3.1968\n",
            "Epoch 13/50\n",
            "\u001b[1m632/632\u001b[0m \u001b[32m━━━━━━━━━━━━━━━━━━━━\u001b[0m\u001b[37m\u001b[0m \u001b[1m2s\u001b[0m 2ms/step - loss: 4.4981 - mean_absolute_error: 1.7063 - val_loss: 0.8827 - val_mean_absolute_error: 0.7496\n",
            "Epoch 14/50\n",
            "\u001b[1m632/632\u001b[0m \u001b[32m━━━━━━━━━━━━━━━━━━━━\u001b[0m\u001b[37m\u001b[0m \u001b[1m1s\u001b[0m 2ms/step - loss: 3.6435 - mean_absolute_error: 1.5097 - val_loss: 1.0551 - val_mean_absolute_error: 0.7321\n",
            "Epoch 15/50\n",
            "\u001b[1m632/632\u001b[0m \u001b[32m━━━━━━━━━━━━━━━━━━━━\u001b[0m\u001b[37m\u001b[0m \u001b[1m2s\u001b[0m 2ms/step - loss: 4.5825 - mean_absolute_error: 1.6840 - val_loss: 1.3442 - val_mean_absolute_error: 0.8516\n",
            "Epoch 16/50\n",
            "\u001b[1m632/632\u001b[0m \u001b[32m━━━━━━━━━━━━━━━━━━━━\u001b[0m\u001b[37m\u001b[0m \u001b[1m1s\u001b[0m 2ms/step - loss: 3.6218 - mean_absolute_error: 1.5675 - val_loss: 3.1673 - val_mean_absolute_error: 1.6210\n",
            "Epoch 17/50\n",
            "\u001b[1m632/632\u001b[0m \u001b[32m━━━━━━━━━━━━━━━━━━━━\u001b[0m\u001b[37m\u001b[0m \u001b[1m3s\u001b[0m 2ms/step - loss: 4.2927 - mean_absolute_error: 1.6730 - val_loss: 2.4976 - val_mean_absolute_error: 1.2888\n",
            "Epoch 18/50\n",
            "\u001b[1m632/632\u001b[0m \u001b[32m━━━━━━━━━━━━━━━━━━━━\u001b[0m\u001b[37m\u001b[0m \u001b[1m3s\u001b[0m 3ms/step - loss: 3.9756 - mean_absolute_error: 1.5842 - val_loss: 0.9323 - val_mean_absolute_error: 0.7006\n",
            "Epoch 19/50\n",
            "\u001b[1m632/632\u001b[0m \u001b[32m━━━━━━━━━━━━━━━━━━━━\u001b[0m\u001b[37m\u001b[0m \u001b[1m2s\u001b[0m 2ms/step - loss: 4.2835 - mean_absolute_error: 1.6639 - val_loss: 38.9966 - val_mean_absolute_error: 6.1753\n",
            "Epoch 20/50\n",
            "\u001b[1m632/632\u001b[0m \u001b[32m━━━━━━━━━━━━━━━━━━━━\u001b[0m\u001b[37m\u001b[0m \u001b[1m2s\u001b[0m 2ms/step - loss: 5.5138 - mean_absolute_error: 1.8699 - val_loss: 1.2293 - val_mean_absolute_error: 0.9525\n",
            "Epoch 21/50\n",
            "\u001b[1m632/632\u001b[0m \u001b[32m━━━━━━━━━━━━━━━━━━━━\u001b[0m\u001b[37m\u001b[0m \u001b[1m1s\u001b[0m 2ms/step - loss: 3.5469 - mean_absolute_error: 1.4929 - val_loss: 2.6290 - val_mean_absolute_error: 1.4741\n",
            "Epoch 22/50\n",
            "\u001b[1m632/632\u001b[0m \u001b[32m━━━━━━━━━━━━━━━━━━━━\u001b[0m\u001b[37m\u001b[0m \u001b[1m3s\u001b[0m 2ms/step - loss: 4.4883 - mean_absolute_error: 1.6903 - val_loss: 1.1072 - val_mean_absolute_error: 0.7551\n",
            "Epoch 23/50\n",
            "\u001b[1m632/632\u001b[0m \u001b[32m━━━━━━━━━━━━━━━━━━━━\u001b[0m\u001b[37m\u001b[0m \u001b[1m1s\u001b[0m 2ms/step - loss: 2.7563 - mean_absolute_error: 1.3132 - val_loss: 1.5655 - val_mean_absolute_error: 1.1019\n",
            "Epoch 24/50\n",
            "\u001b[1m632/632\u001b[0m \u001b[32m━━━━━━━━━━━━━━━━━━━━\u001b[0m\u001b[37m\u001b[0m \u001b[1m2s\u001b[0m 2ms/step - loss: 3.6423 - mean_absolute_error: 1.5336 - val_loss: 1.2487 - val_mean_absolute_error: 0.8141\n",
            "Epoch 25/50\n",
            "\u001b[1m632/632\u001b[0m \u001b[32m━━━━━━━━━━━━━━━━━━━━\u001b[0m\u001b[37m\u001b[0m \u001b[1m3s\u001b[0m 3ms/step - loss: 2.9330 - mean_absolute_error: 1.3654 - val_loss: 0.8548 - val_mean_absolute_error: 0.7000\n",
            "Epoch 26/50\n",
            "\u001b[1m632/632\u001b[0m \u001b[32m━━━━━━━━━━━━━━━━━━━━\u001b[0m\u001b[37m\u001b[0m \u001b[1m1s\u001b[0m 2ms/step - loss: 3.4555 - mean_absolute_error: 1.4640 - val_loss: 8.0425 - val_mean_absolute_error: 2.6924\n",
            "Epoch 27/50\n",
            "\u001b[1m632/632\u001b[0m \u001b[32m━━━━━━━━━━━━━━━━━━━━\u001b[0m\u001b[37m\u001b[0m \u001b[1m1s\u001b[0m 2ms/step - loss: 3.3911 - mean_absolute_error: 1.4730 - val_loss: 1.1864 - val_mean_absolute_error: 0.7773\n",
            "Epoch 28/50\n",
            "\u001b[1m632/632\u001b[0m \u001b[32m━━━━━━━━━━━━━━━━━━━━\u001b[0m\u001b[37m\u001b[0m \u001b[1m1s\u001b[0m 2ms/step - loss: 3.7959 - mean_absolute_error: 1.5791 - val_loss: 6.7491 - val_mean_absolute_error: 2.4267\n",
            "Epoch 29/50\n",
            "\u001b[1m632/632\u001b[0m \u001b[32m━━━━━━━━━━━━━━━━━━━━\u001b[0m\u001b[37m\u001b[0m \u001b[1m1s\u001b[0m 2ms/step - loss: 3.4473 - mean_absolute_error: 1.4665 - val_loss: 1.7436 - val_mean_absolute_error: 1.0052\n",
            "Epoch 30/50\n",
            "\u001b[1m632/632\u001b[0m \u001b[32m━━━━━━━━━━━━━━━━━━━━\u001b[0m\u001b[37m\u001b[0m \u001b[1m3s\u001b[0m 2ms/step - loss: 2.9569 - mean_absolute_error: 1.3556 - val_loss: 3.6871 - val_mean_absolute_error: 1.6840\n",
            "Epoch 31/50\n",
            "\u001b[1m632/632\u001b[0m \u001b[32m━━━━━━━━━━━━━━━━━━━━\u001b[0m\u001b[37m\u001b[0m \u001b[1m3s\u001b[0m 2ms/step - loss: 3.2711 - mean_absolute_error: 1.4322 - val_loss: 9.3819 - val_mean_absolute_error: 2.9255\n",
            "Epoch 32/50\n",
            "\u001b[1m632/632\u001b[0m \u001b[32m━━━━━━━━━━━━━━━━━━━━\u001b[0m\u001b[37m\u001b[0m \u001b[1m2s\u001b[0m 3ms/step - loss: 2.8664 - mean_absolute_error: 1.3446 - val_loss: 4.2541 - val_mean_absolute_error: 1.9050\n",
            "Epoch 33/50\n",
            "\u001b[1m632/632\u001b[0m \u001b[32m━━━━━━━━━━━━━━━━━━━━\u001b[0m\u001b[37m\u001b[0m \u001b[1m2s\u001b[0m 3ms/step - loss: 2.8921 - mean_absolute_error: 1.3525 - val_loss: 0.8489 - val_mean_absolute_error: 0.7084\n",
            "Epoch 34/50\n",
            "\u001b[1m632/632\u001b[0m \u001b[32m━━━━━━━━━━━━━━━━━━━━\u001b[0m\u001b[37m\u001b[0m \u001b[1m2s\u001b[0m 2ms/step - loss: 3.7662 - mean_absolute_error: 1.5382 - val_loss: 1.6038 - val_mean_absolute_error: 0.9505\n",
            "Epoch 35/50\n",
            "\u001b[1m632/632\u001b[0m \u001b[32m━━━━━━━━━━━━━━━━━━━━\u001b[0m\u001b[37m\u001b[0m \u001b[1m1s\u001b[0m 2ms/step - loss: 3.3172 - mean_absolute_error: 1.4270 - val_loss: 3.7171 - val_mean_absolute_error: 1.7717\n",
            "Epoch 36/50\n",
            "\u001b[1m632/632\u001b[0m \u001b[32m━━━━━━━━━━━━━━━━━━━━\u001b[0m\u001b[37m\u001b[0m \u001b[1m2s\u001b[0m 2ms/step - loss: 2.6355 - mean_absolute_error: 1.2826 - val_loss: 3.8285 - val_mean_absolute_error: 1.7242\n",
            "Epoch 37/50\n",
            "\u001b[1m632/632\u001b[0m \u001b[32m━━━━━━━━━━━━━━━━━━━━\u001b[0m\u001b[37m\u001b[0m \u001b[1m3s\u001b[0m 2ms/step - loss: 3.3611 - mean_absolute_error: 1.4475 - val_loss: 11.4946 - val_mean_absolute_error: 3.2636\n",
            "Epoch 38/50\n",
            "\u001b[1m632/632\u001b[0m \u001b[32m━━━━━━━━━━━━━━━━━━━━\u001b[0m\u001b[37m\u001b[0m \u001b[1m3s\u001b[0m 3ms/step - loss: 3.3837 - mean_absolute_error: 1.4650 - val_loss: 1.1601 - val_mean_absolute_error: 0.9213\n",
            "Epoch 39/50\n",
            "\u001b[1m632/632\u001b[0m \u001b[32m━━━━━━━━━━━━━━━━━━━━\u001b[0m\u001b[37m\u001b[0m \u001b[1m2s\u001b[0m 2ms/step - loss: 3.4911 - mean_absolute_error: 1.5029 - val_loss: 3.2676 - val_mean_absolute_error: 1.5556\n",
            "Epoch 40/50\n",
            "\u001b[1m632/632\u001b[0m \u001b[32m━━━━━━━━━━━━━━━━━━━━\u001b[0m\u001b[37m\u001b[0m \u001b[1m3s\u001b[0m 2ms/step - loss: 2.5717 - mean_absolute_error: 1.2820 - val_loss: 10.9658 - val_mean_absolute_error: 3.1795\n",
            "Epoch 41/50\n",
            "\u001b[1m632/632\u001b[0m \u001b[32m━━━━━━━━━━━━━━━━━━━━\u001b[0m\u001b[37m\u001b[0m \u001b[1m4s\u001b[0m 5ms/step - loss: 3.4870 - mean_absolute_error: 1.4501 - val_loss: 6.3979 - val_mean_absolute_error: 2.3808\n",
            "Epoch 42/50\n",
            "\u001b[1m632/632\u001b[0m \u001b[32m━━━━━━━━━━━━━━━━━━━━\u001b[0m\u001b[37m\u001b[0m \u001b[1m3s\u001b[0m 5ms/step - loss: 3.0291 - mean_absolute_error: 1.4052 - val_loss: 8.8543 - val_mean_absolute_error: 2.8371\n",
            "Epoch 43/50\n",
            "\u001b[1m632/632\u001b[0m \u001b[32m━━━━━━━━━━━━━━━━━━━━\u001b[0m\u001b[37m\u001b[0m \u001b[1m3s\u001b[0m 2ms/step - loss: 2.7189 - mean_absolute_error: 1.3271 - val_loss: 3.5314 - val_mean_absolute_error: 1.7206\n",
            "Epoch 44/50\n",
            "\u001b[1m632/632\u001b[0m \u001b[32m━━━━━━━━━━━━━━━━━━━━\u001b[0m\u001b[37m\u001b[0m \u001b[1m1s\u001b[0m 2ms/step - loss: 2.8554 - mean_absolute_error: 1.3493 - val_loss: 6.4818 - val_mean_absolute_error: 2.3715\n",
            "Epoch 45/50\n",
            "\u001b[1m632/632\u001b[0m \u001b[32m━━━━━━━━━━━━━━━━━━━━\u001b[0m\u001b[37m\u001b[0m \u001b[1m1s\u001b[0m 2ms/step - loss: 2.6415 - mean_absolute_error: 1.2982 - val_loss: 8.0598 - val_mean_absolute_error: 2.6847\n",
            "Epoch 46/50\n",
            "\u001b[1m632/632\u001b[0m \u001b[32m━━━━━━━━━━━━━━━━━━━━\u001b[0m\u001b[37m\u001b[0m \u001b[1m1s\u001b[0m 2ms/step - loss: 3.5974 - mean_absolute_error: 1.4880 - val_loss: 3.8314 - val_mean_absolute_error: 1.7253\n",
            "Epoch 47/50\n",
            "\u001b[1m632/632\u001b[0m \u001b[32m━━━━━━━━━━━━━━━━━━━━\u001b[0m\u001b[37m\u001b[0m \u001b[1m1s\u001b[0m 2ms/step - loss: 3.5111 - mean_absolute_error: 1.4726 - val_loss: 3.7405 - val_mean_absolute_error: 1.6992\n",
            "Epoch 48/50\n",
            "\u001b[1m632/632\u001b[0m \u001b[32m━━━━━━━━━━━━━━━━━━━━\u001b[0m\u001b[37m\u001b[0m \u001b[1m1s\u001b[0m 2ms/step - loss: 2.5127 - mean_absolute_error: 1.2661 - val_loss: 0.8812 - val_mean_absolute_error: 0.6919\n",
            "Epoch 49/50\n",
            "\u001b[1m632/632\u001b[0m \u001b[32m━━━━━━━━━━━━━━━━━━━━\u001b[0m\u001b[37m\u001b[0m \u001b[1m3s\u001b[0m 3ms/step - loss: 2.2183 - mean_absolute_error: 1.1747 - val_loss: 1.1938 - val_mean_absolute_error: 0.7862\n",
            "Epoch 50/50\n",
            "\u001b[1m632/632\u001b[0m \u001b[32m━━━━━━━━━━━━━━━━━━━━\u001b[0m\u001b[37m\u001b[0m \u001b[1m3s\u001b[0m 3ms/step - loss: 2.8016 - mean_absolute_error: 1.2980 - val_loss: 4.6852 - val_mean_absolute_error: 2.0117\n",
            "Epoch 1/50\n",
            "\u001b[1m632/632\u001b[0m \u001b[32m━━━━━━━━━━━━━━━━━━━━\u001b[0m\u001b[37m\u001b[0m \u001b[1m3s\u001b[0m 2ms/step - loss: 396.5861 - mean_absolute_error: 7.9515 - val_loss: 1.0344 - val_mean_absolute_error: 0.8510\n",
            "Epoch 2/50\n",
            "\u001b[1m632/632\u001b[0m \u001b[32m━━━━━━━━━━━━━━━━━━━━\u001b[0m\u001b[37m\u001b[0m \u001b[1m2s\u001b[0m 2ms/step - loss: 1.1517 - mean_absolute_error: 0.8726 - val_loss: 1.3809 - val_mean_absolute_error: 0.9872\n",
            "Epoch 3/50\n",
            "\u001b[1m632/632\u001b[0m \u001b[32m━━━━━━━━━━━━━━━━━━━━\u001b[0m\u001b[37m\u001b[0m \u001b[1m1s\u001b[0m 2ms/step - loss: 1.3253 - mean_absolute_error: 0.9304 - val_loss: 1.2330 - val_mean_absolute_error: 0.8836\n",
            "Epoch 4/50\n",
            "\u001b[1m632/632\u001b[0m \u001b[32m━━━━━━━━━━━━━━━━━━━━\u001b[0m\u001b[37m\u001b[0m \u001b[1m1s\u001b[0m 2ms/step - loss: 1.5417 - mean_absolute_error: 0.9988 - val_loss: 1.1847 - val_mean_absolute_error: 0.8937\n",
            "Epoch 5/50\n",
            "\u001b[1m632/632\u001b[0m \u001b[32m━━━━━━━━━━━━━━━━━━━━\u001b[0m\u001b[37m\u001b[0m \u001b[1m1s\u001b[0m 2ms/step - loss: 1.5992 - mean_absolute_error: 1.0161 - val_loss: 1.6040 - val_mean_absolute_error: 1.0199\n",
            "Epoch 6/50\n",
            "\u001b[1m632/632\u001b[0m \u001b[32m━━━━━━━━━━━━━━━━━━━━\u001b[0m\u001b[37m\u001b[0m \u001b[1m2s\u001b[0m 3ms/step - loss: 1.8694 - mean_absolute_error: 1.1065 - val_loss: 1.9287 - val_mean_absolute_error: 1.1328\n",
            "Epoch 7/50\n",
            "\u001b[1m632/632\u001b[0m \u001b[32m━━━━━━━━━━━━━━━━━━━━\u001b[0m\u001b[37m\u001b[0m \u001b[1m2s\u001b[0m 3ms/step - loss: 1.9658 - mean_absolute_error: 1.1302 - val_loss: 3.2807 - val_mean_absolute_error: 1.5525\n",
            "Epoch 8/50\n",
            "\u001b[1m632/632\u001b[0m \u001b[32m━━━━━━━━━━━━━━━━━━━━\u001b[0m\u001b[37m\u001b[0m \u001b[1m2s\u001b[0m 2ms/step - loss: 1.9735 - mean_absolute_error: 1.1278 - val_loss: 1.0217 - val_mean_absolute_error: 0.8406\n",
            "Epoch 9/50\n",
            "\u001b[1m632/632\u001b[0m \u001b[32m━━━━━━━━━━━━━━━━━━━━\u001b[0m\u001b[37m\u001b[0m \u001b[1m1s\u001b[0m 2ms/step - loss: 2.0951 - mean_absolute_error: 1.1677 - val_loss: 1.4173 - val_mean_absolute_error: 0.9530\n",
            "Epoch 10/50\n",
            "\u001b[1m632/632\u001b[0m \u001b[32m━━━━━━━━━━━━━━━━━━━━\u001b[0m\u001b[37m\u001b[0m \u001b[1m3s\u001b[0m 2ms/step - loss: 1.9544 - mean_absolute_error: 1.1254 - val_loss: 4.6337 - val_mean_absolute_error: 1.8772\n",
            "Epoch 11/50\n",
            "\u001b[1m632/632\u001b[0m \u001b[32m━━━━━━━━━━━━━━━━━━━━\u001b[0m\u001b[37m\u001b[0m \u001b[1m2s\u001b[0m 2ms/step - loss: 2.5825 - mean_absolute_error: 1.2920 - val_loss: 1.4767 - val_mean_absolute_error: 0.9803\n",
            "Epoch 12/50\n",
            "\u001b[1m632/632\u001b[0m \u001b[32m━━━━━━━━━━━━━━━━━━━━\u001b[0m\u001b[37m\u001b[0m \u001b[1m4s\u001b[0m 5ms/step - loss: 1.8991 - mean_absolute_error: 1.1047 - val_loss: 2.5354 - val_mean_absolute_error: 1.3234\n",
            "Epoch 13/50\n",
            "\u001b[1m632/632\u001b[0m \u001b[32m━━━━━━━━━━━━━━━━━━━━\u001b[0m\u001b[37m\u001b[0m \u001b[1m2s\u001b[0m 3ms/step - loss: 1.9377 - mean_absolute_error: 1.1315 - val_loss: 1.4856 - val_mean_absolute_error: 1.0218\n",
            "Epoch 14/50\n",
            "\u001b[1m632/632\u001b[0m \u001b[32m━━━━━━━━━━━━━━━━━━━━\u001b[0m\u001b[37m\u001b[0m \u001b[1m2s\u001b[0m 3ms/step - loss: 2.0046 - mean_absolute_error: 1.1384 - val_loss: 1.4385 - val_mean_absolute_error: 0.9852\n",
            "Epoch 15/50\n",
            "\u001b[1m632/632\u001b[0m \u001b[32m━━━━━━━━━━━━━━━━━━━━\u001b[0m\u001b[37m\u001b[0m \u001b[1m2s\u001b[0m 3ms/step - loss: 2.1713 - mean_absolute_error: 1.1891 - val_loss: 1.7516 - val_mean_absolute_error: 1.0679\n",
            "Epoch 16/50\n",
            "\u001b[1m632/632\u001b[0m \u001b[32m━━━━━━━━━━━━━━━━━━━━\u001b[0m\u001b[37m\u001b[0m \u001b[1m2s\u001b[0m 2ms/step - loss: 1.9348 - mean_absolute_error: 1.1213 - val_loss: 1.5111 - val_mean_absolute_error: 0.9983\n",
            "Epoch 17/50\n",
            "\u001b[1m632/632\u001b[0m \u001b[32m━━━━━━━━━━━━━━━━━━━━\u001b[0m\u001b[37m\u001b[0m \u001b[1m3s\u001b[0m 3ms/step - loss: 2.1890 - mean_absolute_error: 1.1872 - val_loss: 2.4583 - val_mean_absolute_error: 1.3012\n",
            "Epoch 18/50\n",
            "\u001b[1m632/632\u001b[0m \u001b[32m━━━━━━━━━━━━━━━━━━━━\u001b[0m\u001b[37m\u001b[0m \u001b[1m3s\u001b[0m 3ms/step - loss: 2.0229 - mean_absolute_error: 1.1472 - val_loss: 4.5196 - val_mean_absolute_error: 1.8768\n",
            "Epoch 19/50\n",
            "\u001b[1m632/632\u001b[0m \u001b[32m━━━━━━━━━━━━━━━━━━━━\u001b[0m\u001b[37m\u001b[0m \u001b[1m2s\u001b[0m 2ms/step - loss: 1.8483 - mean_absolute_error: 1.0892 - val_loss: 1.3268 - val_mean_absolute_error: 0.9670\n",
            "Epoch 20/50\n",
            "\u001b[1m632/632\u001b[0m \u001b[32m━━━━━━━━━━━━━━━━━━━━\u001b[0m\u001b[37m\u001b[0m \u001b[1m1s\u001b[0m 2ms/step - loss: 1.8538 - mean_absolute_error: 1.0975 - val_loss: 1.0983 - val_mean_absolute_error: 0.8347\n",
            "Epoch 21/50\n",
            "\u001b[1m632/632\u001b[0m \u001b[32m━━━━━━━━━━━━━━━━━━━━\u001b[0m\u001b[37m\u001b[0m \u001b[1m1s\u001b[0m 2ms/step - loss: 1.7401 - mean_absolute_error: 1.0704 - val_loss: 1.6241 - val_mean_absolute_error: 1.0308\n",
            "Epoch 22/50\n",
            "\u001b[1m632/632\u001b[0m \u001b[32m━━━━━━━━━━━━━━━━━━━━\u001b[0m\u001b[37m\u001b[0m \u001b[1m2s\u001b[0m 2ms/step - loss: 1.8964 - mean_absolute_error: 1.1100 - val_loss: 2.7626 - val_mean_absolute_error: 1.3870\n",
            "Epoch 23/50\n",
            "\u001b[1m632/632\u001b[0m \u001b[32m━━━━━━━━━━━━━━━━━━━━\u001b[0m\u001b[37m\u001b[0m \u001b[1m1s\u001b[0m 2ms/step - loss: 1.8414 - mean_absolute_error: 1.0970 - val_loss: 1.1863 - val_mean_absolute_error: 0.8928\n",
            "Epoch 24/50\n",
            "\u001b[1m632/632\u001b[0m \u001b[32m━━━━━━━━━━━━━━━━━━━━\u001b[0m\u001b[37m\u001b[0m \u001b[1m1s\u001b[0m 2ms/step - loss: 1.9674 - mean_absolute_error: 1.1300 - val_loss: 1.4381 - val_mean_absolute_error: 0.9851\n",
            "Epoch 25/50\n",
            "\u001b[1m632/632\u001b[0m \u001b[32m━━━━━━━━━━━━━━━━━━━━\u001b[0m\u001b[37m\u001b[0m \u001b[1m3s\u001b[0m 3ms/step - loss: 1.6807 - mean_absolute_error: 1.0402 - val_loss: 1.6397 - val_mean_absolute_error: 1.0339\n",
            "Epoch 26/50\n",
            "\u001b[1m632/632\u001b[0m \u001b[32m━━━━━━━━━━━━━━━━━━━━\u001b[0m\u001b[37m\u001b[0m \u001b[1m2s\u001b[0m 2ms/step - loss: 1.6475 - mean_absolute_error: 1.0308 - val_loss: 1.0580 - val_mean_absolute_error: 0.8315\n",
            "Epoch 27/50\n",
            "\u001b[1m632/632\u001b[0m \u001b[32m━━━━━━━━━━━━━━━━━━━━\u001b[0m\u001b[37m\u001b[0m \u001b[1m2s\u001b[0m 2ms/step - loss: 1.7171 - mean_absolute_error: 1.0567 - val_loss: 1.3477 - val_mean_absolute_error: 0.9727\n",
            "Epoch 28/50\n",
            "\u001b[1m632/632\u001b[0m \u001b[32m━━━━━━━━━━━━━━━━━━━━\u001b[0m\u001b[37m\u001b[0m \u001b[1m3s\u001b[0m 2ms/step - loss: 2.0345 - mean_absolute_error: 1.1134 - val_loss: 5.2376 - val_mean_absolute_error: 2.0507\n",
            "Epoch 29/50\n",
            "\u001b[1m632/632\u001b[0m \u001b[32m━━━━━━━━━━━━━━━━━━━━\u001b[0m\u001b[37m\u001b[0m \u001b[1m2s\u001b[0m 2ms/step - loss: 1.9460 - mean_absolute_error: 1.0939 - val_loss: 1.1583 - val_mean_absolute_error: 0.8960\n",
            "Epoch 30/50\n",
            "\u001b[1m632/632\u001b[0m \u001b[32m━━━━━━━━━━━━━━━━━━━━\u001b[0m\u001b[37m\u001b[0m \u001b[1m2s\u001b[0m 3ms/step - loss: 1.4759 - mean_absolute_error: 0.9823 - val_loss: 1.0523 - val_mean_absolute_error: 0.8210\n",
            "Epoch 31/50\n",
            "\u001b[1m632/632\u001b[0m \u001b[32m━━━━━━━━━━━━━━━━━━━━\u001b[0m\u001b[37m\u001b[0m \u001b[1m3s\u001b[0m 3ms/step - loss: 1.4600 - mean_absolute_error: 0.9723 - val_loss: 1.2291 - val_mean_absolute_error: 0.9044\n",
            "Epoch 32/50\n",
            "\u001b[1m632/632\u001b[0m \u001b[32m━━━━━━━━━━━━━━━━━━━━\u001b[0m\u001b[37m\u001b[0m \u001b[1m1s\u001b[0m 2ms/step - loss: 1.4337 - mean_absolute_error: 0.9790 - val_loss: 1.0598 - val_mean_absolute_error: 0.8472\n",
            "Epoch 33/50\n",
            "\u001b[1m632/632\u001b[0m \u001b[32m━━━━━━━━━━━━━━━━━━━━\u001b[0m\u001b[37m\u001b[0m \u001b[1m3s\u001b[0m 2ms/step - loss: 1.4664 - mean_absolute_error: 0.9818 - val_loss: 1.2902 - val_mean_absolute_error: 0.9243\n",
            "Epoch 34/50\n",
            "\u001b[1m632/632\u001b[0m \u001b[32m━━━━━━━━━━━━━━━━━━━━\u001b[0m\u001b[37m\u001b[0m \u001b[1m3s\u001b[0m 2ms/step - loss: 1.7312 - mean_absolute_error: 1.0632 - val_loss: 1.0955 - val_mean_absolute_error: 0.8313\n",
            "Epoch 35/50\n",
            "\u001b[1m632/632\u001b[0m \u001b[32m━━━━━━━━━━━━━━━━━━━━\u001b[0m\u001b[37m\u001b[0m \u001b[1m3s\u001b[0m 2ms/step - loss: 1.6466 - mean_absolute_error: 1.0293 - val_loss: 1.0188 - val_mean_absolute_error: 0.8370\n",
            "Epoch 36/50\n",
            "\u001b[1m632/632\u001b[0m \u001b[32m━━━━━━━━━━━━━━━━━━━━\u001b[0m\u001b[37m\u001b[0m \u001b[1m2s\u001b[0m 3ms/step - loss: 1.4957 - mean_absolute_error: 0.9882 - val_loss: 1.1477 - val_mean_absolute_error: 0.8750\n",
            "Epoch 37/50\n",
            "\u001b[1m632/632\u001b[0m \u001b[32m━━━━━━━━━━━━━━━━━━━━\u001b[0m\u001b[37m\u001b[0m \u001b[1m3s\u001b[0m 3ms/step - loss: 1.4202 - mean_absolute_error: 0.9660 - val_loss: 1.1853 - val_mean_absolute_error: 0.9187\n",
            "Epoch 38/50\n",
            "\u001b[1m632/632\u001b[0m \u001b[32m━━━━━━━━━━━━━━━━━━━━\u001b[0m\u001b[37m\u001b[0m \u001b[1m1s\u001b[0m 2ms/step - loss: 1.5922 - mean_absolute_error: 1.0232 - val_loss: 3.8082 - val_mean_absolute_error: 1.6913\n",
            "Epoch 39/50\n",
            "\u001b[1m632/632\u001b[0m \u001b[32m━━━━━━━━━━━━━━━━━━━━\u001b[0m\u001b[37m\u001b[0m \u001b[1m1s\u001b[0m 2ms/step - loss: 1.5678 - mean_absolute_error: 1.0147 - val_loss: 2.5565 - val_mean_absolute_error: 1.3480\n",
            "Epoch 40/50\n",
            "\u001b[1m632/632\u001b[0m \u001b[32m━━━━━━━━━━━━━━━━━━━━\u001b[0m\u001b[37m\u001b[0m \u001b[1m3s\u001b[0m 2ms/step - loss: 1.4940 - mean_absolute_error: 0.9969 - val_loss: 1.1227 - val_mean_absolute_error: 0.8590\n",
            "Epoch 41/50\n",
            "\u001b[1m632/632\u001b[0m \u001b[32m━━━━━━━━━━━━━━━━━━━━\u001b[0m\u001b[37m\u001b[0m \u001b[1m1s\u001b[0m 2ms/step - loss: 1.5233 - mean_absolute_error: 0.9981 - val_loss: 1.5844 - val_mean_absolute_error: 1.0138\n",
            "Epoch 42/50\n",
            "\u001b[1m632/632\u001b[0m \u001b[32m━━━━━━━━━━━━━━━━━━━━\u001b[0m\u001b[37m\u001b[0m \u001b[1m2s\u001b[0m 2ms/step - loss: 1.4140 - mean_absolute_error: 0.9657 - val_loss: 1.4298 - val_mean_absolute_error: 0.9767\n",
            "Epoch 43/50\n",
            "\u001b[1m632/632\u001b[0m \u001b[32m━━━━━━━━━━━━━━━━━━━━\u001b[0m\u001b[37m\u001b[0m \u001b[1m2s\u001b[0m 3ms/step - loss: 1.5527 - mean_absolute_error: 1.0085 - val_loss: 1.1398 - val_mean_absolute_error: 0.8888\n",
            "Epoch 44/50\n",
            "\u001b[1m632/632\u001b[0m \u001b[32m━━━━━━━━━━━━━━━━━━━━\u001b[0m\u001b[37m\u001b[0m \u001b[1m3s\u001b[0m 3ms/step - loss: 1.4332 - mean_absolute_error: 0.9664 - val_loss: 1.3255 - val_mean_absolute_error: 0.9418\n",
            "Epoch 45/50\n",
            "\u001b[1m632/632\u001b[0m \u001b[32m━━━━━━━━━━━━━━━━━━━━\u001b[0m\u001b[37m\u001b[0m \u001b[1m2s\u001b[0m 2ms/step - loss: 1.4168 - mean_absolute_error: 0.9721 - val_loss: 1.8591 - val_mean_absolute_error: 1.1393\n",
            "Epoch 46/50\n",
            "\u001b[1m632/632\u001b[0m \u001b[32m━━━━━━━━━━━━━━━━━━━━\u001b[0m\u001b[37m\u001b[0m \u001b[1m3s\u001b[0m 2ms/step - loss: 1.4259 - mean_absolute_error: 0.9639 - val_loss: 1.1654 - val_mean_absolute_error: 0.8567\n",
            "Epoch 47/50\n",
            "\u001b[1m632/632\u001b[0m \u001b[32m━━━━━━━━━━━━━━━━━━━━\u001b[0m\u001b[37m\u001b[0m \u001b[1m3s\u001b[0m 2ms/step - loss: 1.3787 - mean_absolute_error: 0.9530 - val_loss: 1.2218 - val_mean_absolute_error: 0.8798\n",
            "Epoch 48/50\n",
            "\u001b[1m632/632\u001b[0m \u001b[32m━━━━━━━━━━━━━━━━━━━━\u001b[0m\u001b[37m\u001b[0m \u001b[1m3s\u001b[0m 3ms/step - loss: 1.2389 - mean_absolute_error: 0.9037 - val_loss: 1.4431 - val_mean_absolute_error: 1.0066\n",
            "Epoch 49/50\n",
            "\u001b[1m632/632\u001b[0m \u001b[32m━━━━━━━━━━━━━━━━━━━━\u001b[0m\u001b[37m\u001b[0m \u001b[1m3s\u001b[0m 3ms/step - loss: 1.4262 - mean_absolute_error: 0.9772 - val_loss: 1.2392 - val_mean_absolute_error: 0.9336\n",
            "Epoch 50/50\n",
            "\u001b[1m632/632\u001b[0m \u001b[32m━━━━━━━━━━━━━━━━━━━━\u001b[0m\u001b[37m\u001b[0m \u001b[1m2s\u001b[0m 2ms/step - loss: 1.2254 - mean_absolute_error: 0.9016 - val_loss: 1.0920 - val_mean_absolute_error: 0.8339\n"
          ]
        }
      ]
    },
    {
      "cell_type": "code",
      "source": [
        "# Evaluate the price model\n",
        "price_loss, price_mae = price_model.evaluate(X_test_price, y_test_price)\n",
        "print(f'Price Model - Loss: {price_loss}, MAE: {price_mae}')\n",
        "\n",
        "# Evaluate the weather model\n",
        "weather_loss, weather_mae = weather_model.evaluate(X_test_weather, [y_test_rainfall, y_test_temperature])\n",
        "print(f'Weather Model - Loss: {weather_loss}, MAE: {weather_mae}')\n"
      ],
      "metadata": {
        "colab": {
          "base_uri": "https://localhost:8080/"
        },
        "id": "Ojmpg_2NWRU2",
        "outputId": "429f1f6f-edb8-44b6-e10e-b1e3024f63f8"
      },
      "execution_count": 8,
      "outputs": [
        {
          "output_type": "stream",
          "name": "stdout",
          "text": [
            "\u001b[1m62/62\u001b[0m \u001b[32m━━━━━━━━━━━━━━━━━━━━\u001b[0m\u001b[37m\u001b[0m \u001b[1m0s\u001b[0m 1ms/step - loss: 4.7761 - mean_absolute_error: 2.0364\n",
            "Price Model - Loss: 4.785111904144287, MAE: 2.0357186794281006\n",
            "\u001b[1m62/62\u001b[0m \u001b[32m━━━━━━━━━━━━━━━━━━━━\u001b[0m\u001b[37m\u001b[0m \u001b[1m0s\u001b[0m 1ms/step - loss: 1.1183 - mean_absolute_error: 0.8558\n",
            "Weather Model - Loss: 1.0800492763519287, MAE: 0.8358787298202515\n"
          ]
        }
      ]
    }
  ]
}